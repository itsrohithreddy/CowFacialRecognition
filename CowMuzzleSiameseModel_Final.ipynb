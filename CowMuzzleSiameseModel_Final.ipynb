{
  "cells": [
    {
      "cell_type": "code",
      "execution_count": null,
      "metadata": {
        "id": "2sL4vydHvbC9"
      },
      "outputs": [],
      "source": [
        "import os\n",
        "import numpy as np\n",
        "import random\n",
        "import math\n",
        "import tensorflow as tf\n",
        "import matplotlib.pyplot as plt\n",
        "import cv2\n",
        "import pickle\n",
        "from keras import layers\n",
        "import keras\n",
        "from tensorflow.keras import regularizers"
      ]
    },
    {
      "cell_type": "code",
      "execution_count": null,
      "metadata": {
        "colab": {
          "base_uri": "https://localhost:8080/"
        },
        "id": "bX5ZnpGUvoRK",
        "outputId": "0345d5c7-3905-4c30-cca6-a08c1d925a67"
      },
      "outputs": [
        {
          "name": "stdout",
          "output_type": "stream",
          "text": [
            "Mounted at /content/drive\n"
          ]
        }
      ],
      "source": [
        "from google.colab import drive\n",
        "drive.mount('/content/drive')"
      ]
    },
    {
      "cell_type": "code",
      "execution_count": null,
      "metadata": {
        "id": "aZlPjOZXSls-"
      },
      "outputs": [],
      "source": [
        "# !unzip -o \"/content/drive/MyDrive/CowImagesSoCool/BeefCattle_Muzzle_300.zip\" -d \"/content/drive/MyDrive/CowImagesSoCool/BeefCattle_Muzzle_300\""
      ]
    },
    {
      "cell_type": "code",
      "execution_count": null,
      "metadata": {
        "id": "OPoJ-2oiSqi7"
      },
      "outputs": [],
      "source": [
        "# %cd \"/content/drive/MyDrive/CowImagesSoCool/ImagesPickelFolder\""
      ]
    },
    {
      "cell_type": "code",
      "execution_count": null,
      "metadata": {
        "id": "qZtOTFbgSs_d"
      },
      "outputs": [],
      "source": [
        "# %pwd"
      ]
    },
    {
      "cell_type": "code",
      "execution_count": null,
      "metadata": {
        "id": "Ywxjb5OcSxlk"
      },
      "outputs": [],
      "source": [
        "# !bash  \"/content/drive/MyDrive/CowImagesSoCool/file1.sh\""
      ]
    },
    {
      "cell_type": "code",
      "execution_count": null,
      "metadata": {
        "colab": {
          "base_uri": "https://localhost:8080/"
        },
        "id": "sjydBY_K1NSs",
        "outputId": "6e5bba9e-4c20-4a56-8796-32387092dc84"
      },
      "outputs": [],
      "source": [
        "# # Define the path to the folder containing the dataset\n",
        "# folder_path = \"/content/drive/MyDrive/CowImagesSoCool/BeefCattle_Muzzle_300\"\n",
        "# file_list = os.listdir(folder_path)\n",
        "# # print(file_list)\n",
        "# # print(len(file_list)) #268\n",
        "# file_file_list = [os.listdir('/content/drive/MyDrive/CowImagesSoCool/BeefCattle_Muzzle_300/'+i) for i in file_list]\n",
        "# # print(file_file_list)\n",
        "# # print(len(file_file_list))\n",
        "# test =[[cv2.resize(cv2.imread(os.path.join('/content/drive/MyDrive/CowImagesSoCool/BeefCattle_Muzzle_300/',file_list[i],j)),(224,224)).astype('float32')/255 for j in file_file_list[i]] for i in range(len(file_list))]"
      ]
    },
    {
      "cell_type": "code",
      "execution_count": null,
      "metadata": {
        "id": "ePYzXIC3d12D"
      },
      "outputs": [],
      "source": [
        "# for i in range(26):\n",
        "#   with open('/content/drive/MyDrive/CowImagesSoCool/ImagesPickelFolder/list-'+str(i+1)+'.pkl', \"wb\") as fl:\n",
        "#     pickle.dump(test[i*10:(i+1)*10], fl)"
      ]
    },
    {
      "cell_type": "code",
      "execution_count": null,
      "metadata": {
        "colab": {
          "base_uri": "https://localhost:8080/"
        },
        "id": "2KovOIHtvbC_",
        "outputId": "30c7a3d4-0fd6-4abf-a81b-358f9f0efec6"
      },
      "outputs": [
        {
          "name": "stdout",
          "output_type": "stream",
          "text": [
            "Training data: 20\n",
            "Validation data: 5\n",
            "Testing data: 1\n"
          ]
        }
      ],
      "source": [
        "# Print the sizes of training, validation, and testing datasets\n",
        "print(\"Training data:\",round(26*0.75))\n",
        "print(\"Validation data:\",round(26*0.20))\n",
        "print(\"Testing data:\",round(26*0.05))"
      ]
    },
    {
      "cell_type": "code",
      "execution_count": null,
      "metadata": {
        "id": "FSrkHGbQeW6v"
      },
      "outputs": [],
      "source": [
        "# Define lists to store training and validation datasets\n",
        "train_dataset = []\n",
        "val_dataset = []\n",
        "for i in range(20):\n",
        "  with open(\"/content/drive/MyDrive/CowImagesSoCool/ImagesPickelFolder/list-\"+str(i+1)+\".pkl\", \"rb\") as fl:\n",
        "    train_dataset.extend(pickle.load(fl))\n",
        "for i in range(20,25):\n",
        "  with open(\"/content/drive/MyDrive/CowImagesSoCool/ImagesPickelFolder/list-\"+str(i+1)+\".pkl\", \"rb\") as fl:\n",
        "    val_dataset.extend(pickle.load(fl))"
      ]
    },
    {
      "cell_type": "code",
      "execution_count": null,
      "metadata": {
        "colab": {
          "base_uri": "https://localhost:8080/"
        },
        "id": "BYs4H1Q8ubRq",
        "outputId": "360e43ac-44a0-4c09-8198-dcf50c172e0b"
      },
      "outputs": [
        {
          "name": "stdout",
          "output_type": "stream",
          "text": [
            "(224, 224, 3)\n",
            "17\n"
          ]
        },
        {
          "data": {
            "text/plain": [
              "(224, 224, 3)"
            ]
          },
          "execution_count": 9,
          "metadata": {},
          "output_type": "execute_result"
        }
      ],
      "source": [
        "print(train_dataset[0][0].shape)\n",
        "print(len(train_dataset[2]))\n",
        "val_dataset[0][0].shape"
      ]
    },
    {
      "cell_type": "markdown",
      "metadata": {
        "id": "Sxr3Y7booKgW"
      },
      "source": [
        "### Data Handling"
      ]
    },
    {
      "cell_type": "code",
      "execution_count": null,
      "metadata": {
        "id": "cy5Xf9TLukdM"
      },
      "outputs": [],
      "source": [
        "### Data Handling\n",
        "# Define a custom data generator class for creating batches during training and validation\n",
        "class My_Custom_Generator(keras.utils.Sequence) :\n",
        "    def __init__(self,x1,x2,y,batch_size,dataset) :\n",
        "        self.x1 = x1\n",
        "        self.x2 = x2\n",
        "        self.y = y\n",
        "        self.batch_size = batch_size\n",
        "        self.dataset = dataset\n",
        "\n",
        "    def __len__(self) :\n",
        "        # Calculate the number of batches per epoch\n",
        "        # print((np.ceil(len(self.x1) / float(self.batch_size))).astype(int))\n",
        "        return (np.ceil(len(self.x1) / float(self.batch_size))).astype(int)\n",
        "\n",
        "    def __getitem__(self, idx) :\n",
        "        batch_x1 = self.x1[idx * self.batch_size : (idx+1) * self.batch_size]\n",
        "        batch_x2 = self.x2[idx * self.batch_size : (idx+1) * self.batch_size]\n",
        "        batch_y = self.y[idx * self.batch_size : (idx+1) * self.batch_size]\n",
        "        return (np.array([(self.dataset[cow][cow_index]) for cow,cow_index in batch_x1]),np.array([(self.dataset[cow][cow_index]) for cow,cow_index in batch_x2])), np.array(batch_y)"
      ]
    },
    {
      "cell_type": "code",
      "execution_count": null,
      "metadata": {
        "id": "zBiNl6nAvFMz"
      },
      "outputs": [],
      "source": [
        "# Define the size of training and validation datasets\n",
        "train_size = 45000\n",
        "val_size = 15000"
      ]
    },
    {
      "cell_type": "code",
      "execution_count": null,
      "metadata": {
        "id": "AoWT3MGSu0rT"
      },
      "outputs": [],
      "source": [
        "def get_dataset(n,dataset1):\n",
        "  mid = n//2\n",
        "  data_index = [i for i in range(len(dataset1))]\n",
        "  cow1_index = []\n",
        "  cow2_index = []\n",
        "  label = []\n",
        "  for i in range(mid):\n",
        "    '''\n",
        "      Create pairs of similar and dissimilar images for training or validation\n",
        "      n: size of the dataset\n",
        "      dataset1: the dataset to create pairs from\n",
        "      Return indices of images and their labels\n",
        "      Format: (x1_index, x2_index, label)\n",
        "      x1_index: index of the first image\n",
        "      x2_index: index of the second image\n",
        "      label: 0 for similar, 1 for dissimilar\n",
        "    '''\n",
        "    u_cow1,u_cow2 = random.sample(data_index, 2)\n",
        "    temp_cow1 = [i for i in range(len(dataset1[u_cow1]))]\n",
        "    temp_cow2 = [i for i in range(len(dataset1[u_cow2]))]\n",
        "    anc,po = random.sample(temp_cow1,2)\n",
        "    ne = random.choice(temp_cow2)\n",
        "    cow1_index.append([u_cow1,anc])\n",
        "    cow2_index.append([u_cow1,po])\n",
        "    label.append(0)\n",
        "    cow1_index.append([u_cow1,anc])\n",
        "    cow2_index.append([u_cow2,ne])\n",
        "    label.append(1)\n",
        "  temp = list(zip(cow1_index,cow2_index,label))\n",
        "  random.shuffle(temp)\n",
        "  # print(len(temp))\n",
        "  # print(temp[3])\n",
        "  x1 = []\n",
        "  x2 = []\n",
        "  y = []\n",
        "  for cow1,cow2,label in temp:\n",
        "    x1.append(cow1)\n",
        "    x2.append(cow2)\n",
        "    y.append(label)\n",
        "  del temp\n",
        "  return x1,x2,y"
      ]
    },
    {
      "cell_type": "code",
      "execution_count": null,
      "metadata": {
        "colab": {
          "base_uri": "https://localhost:8080/"
        },
        "id": "EMSapa4SsgDm",
        "outputId": "9838a375-f7a4-41cc-f919-03102c3cbfe3"
      },
      "outputs": [
        {
          "name": "stdout",
          "output_type": "stream",
          "text": [
            "[[183, 5], [73, 2], [33, 11], [96, 0], [145, 14]]\n",
            "[[183, 14], [73, 17], [33, 7], [164, 7], [145, 23]]\n",
            "[0, 0, 0, 1, 0]\n"
          ]
        }
      ],
      "source": [
        "\n",
        "# Split the dataset into training and validation sets\n",
        "siam_dataset_train = get_dataset(train_size,train_dataset)\n",
        "siam_dataset_val = get_dataset(val_size,val_dataset)\n",
        "print(siam_dataset_train[0][:5])\n",
        "print(siam_dataset_train[1][:5])\n",
        "print(siam_dataset_train[2][:5])"
      ]
    },
    {
      "cell_type": "code",
      "execution_count": null,
      "metadata": {
        "id": "21RGxYrGvAP8"
      },
      "outputs": [],
      "source": [
        "\n",
        "# Extract indices and labels from the dataset\n",
        "X1_train_index,X2_train_index,y_train = siam_dataset_train[0],siam_dataset_train[1],siam_dataset_train[2]\n",
        "X1_val_index,X2_val_index,y_val = siam_dataset_val[0],siam_dataset_val[1],siam_dataset_val[2]"
      ]
    },
    {
      "cell_type": "code",
      "execution_count": null,
      "metadata": {
        "id": "oCof41TIvbDD"
      },
      "outputs": [],
      "source": [
        "def cosine_similarity(tensors):\n",
        "    normalized_tensor1 = tf.nn.l2_normalize(tensors[0], axis=1)\n",
        "    normalized_tensor2 = tf.nn.l2_normalize(tensors[1], axis=1)\n",
        "    similarity = tf.reduce_sum(tf.multiply(normalized_tensor1, normalized_tensor2), axis=1)\n",
        "    return tf.expand_dims(similarity, axis=-1)"
      ]
    },
    {
      "cell_type": "code",
      "execution_count": null,
      "metadata": {
        "colab": {
          "base_uri": "https://localhost:8080/"
        },
        "id": "yg-vYA2_IMj4",
        "outputId": "bbbbad90-4aad-44d6-9bea-4a1231885663"
      },
      "outputs": [
        {
          "name": "stdout",
          "output_type": "stream",
          "text": [
            "Number of TPUS: 0\n"
          ]
        }
      ],
      "source": [
        "gpus = tf.config.list_physical_devices('TPU')\n",
        "num_gpus = len(gpus)\n",
        "print(f\"Number of TPUS: {num_gpus}\")"
      ]
    },
    {
      "cell_type": "markdown",
      "metadata": {
        "id": "Jyg61EAIoF_U"
      },
      "source": [
        "### Encoder: Convolutional layers"
      ]
    },
    {
      "cell_type": "code",
      "execution_count": null,
      "metadata": {
        "colab": {
          "base_uri": "https://localhost:8080/"
        },
        "id": "H-4NwZW0vCwq",
        "outputId": "b94420ef-e4c6-48a1-d5b6-bd9d190288f8"
      },
      "outputs": [
        {
          "name": "stdout",
          "output_type": "stream",
          "text": [
            "Number of devices: 1\n"
          ]
        }
      ],
      "source": [
        "### Model Definition\n",
        "\n",
        "# Define a Siamese neural network model using Keras\n",
        "# The model consists of an encoder part followed by a cosine similarity layer and a classification layer\n",
        "# The encoder part consists of convolutional layers followed by fully connected layers\n",
        "# The model takes two input images, processes them through the encoder, and outputs a binary classification result\n",
        "\n",
        "strategy = tf.distribute.MirroredStrategy()\n",
        "\n",
        "print('Number of devices: {}'.format(strategy.num_replicas_in_sync))\n",
        "\n",
        "with strategy.scope():\n",
        "#-----------ENCODER PART------------------\n",
        "    reg_strength=0.0001\n",
        "    Encoder = keras.Sequential(name='imageEncoder')\n",
        "    Encoder.add(layers.Input(shape=(224,224,3)))\n",
        "    Encoder.add(layers.Conv2D(64, (10,10),padding='same', kernel_initializer=tf.keras.initializers.RandomNormal(mean=0., stddev=1.),kernel_regularizer=regularizers.l2(reg_strength)))\n",
        "    # Encoder.add(layers.Conv2D(64, (10,10),padding='same', kernel_initializer=tf.keras.initializers.RandomNormal(mean=0., stddev=1.)))\n",
        "    Encoder.add(layers.BatchNormalization())\n",
        "    Encoder.add(layers.ELU())\n",
        "    Encoder.add(layers.MaxPooling2D())\n",
        "    Encoder.add(layers.SpatialDropout2D(rate=0.3))\n",
        "\n",
        "    Encoder.add(layers.Conv2D(64, (10,10),padding='same', kernel_initializer=tf.keras.initializers.RandomNormal(mean=0., stddev=1.),kernel_regularizer=regularizers.l2(reg_strength)))\n",
        "    # Encoder.add(layers.Conv2D(64, (10,10),padding='same', kernel_initializer=tf.keras.initializers.RandomNormal(mean=0., stddev=1.)))\n",
        "    Encoder.add(layers.BatchNormalization())\n",
        "    Encoder.add(layers.ELU())\n",
        "    Encoder.add(layers.MaxPooling2D())\n",
        "    Encoder.add(layers.SpatialDropout2D(rate=0.3))\n",
        "\n",
        "    Encoder.add(layers.Conv2D(128, (7,7),padding='same', kernel_initializer=tf.keras.initializers.RandomNormal(mean=0., stddev=1.),kernel_regularizer=regularizers.l2(reg_strength)))\n",
        "    # Encoder.add(layers.Conv2D(128, (7,7),padding='same', kernel_initializer=tf.keras.initializers.RandomNormal(mean=0., stddev=1.)))\n",
        "    Encoder.add(layers.BatchNormalization())\n",
        "    Encoder.add(layers.ELU())\n",
        "    Encoder.add(layers.MaxPooling2D())\n",
        "    Encoder.add(layers.SpatialDropout2D(rate=0.3))\n",
        "\n",
        "    Encoder.add(layers.Conv2D(128, (7,7),padding='same', kernel_initializer=tf.keras.initializers.RandomNormal(mean=0., stddev=1.),kernel_regularizer=regularizers.l2(reg_strength)))\n",
        "    # Encoder.add(layers.Conv2D(128, (7,7),padding='same', kernel_initializer=tf.keras.initializers.RandomNormal(mean=0., stddev=1.)))\n",
        "    Encoder.add(layers.BatchNormalization())\n",
        "    Encoder.add(layers.ELU())\n",
        "    Encoder.add(layers.MaxPooling2D())\n",
        "    Encoder.add(layers.SpatialDropout2D(rate=0.3))\n",
        "\n",
        "    Encoder.add(layers.Conv2D(256, (3,3),padding='same', kernel_initializer=tf.keras.initializers.RandomNormal(mean=0., stddev=1.),kernel_regularizer=regularizers.l2(reg_strength)))\n",
        "    # Encoder.add(layers.Conv2D(256, (3,3),padding='same', kernel_initializer=tf.keras.initializers.RandomNormal(mean=0., stddev=1.)))\n",
        "    Encoder.add(layers.BatchNormalization())\n",
        "    Encoder.add(layers.ELU())\n",
        "    Encoder.add(layers.MaxPooling2D())\n",
        "    Encoder.add(layers.SpatialDropout2D(rate=0.3))\n",
        "\n",
        "    Encoder.add(layers.Conv2D(256, (3,3),padding='same', kernel_initializer=tf.keras.initializers.RandomNormal(mean=0., stddev=1.),kernel_regularizer=regularizers.l2(reg_strength)))\n",
        "    # Encoder.add(layers.Conv2D(256, (3,3),padding='same', kernel_initializer=tf.keras.initializers.RandomNormal(mean=0., stddev=1.)))\n",
        "    Encoder.add(layers.BatchNormalization())\n",
        "    Encoder.add(layers.ELU())\n",
        "    Encoder.add(layers.MaxPooling2D())\n",
        "    Encoder.add(layers.SpatialDropout2D(rate=0.3))\n",
        "\n",
        "    Encoder.add(layers.Flatten())\n",
        "    Encoder.add(layers.Dense(1000))\n",
        "    Encoder.add(layers.BatchNormalization())\n",
        "    Encoder.add(layers.ELU())\n",
        "    Encoder.add(layers.Dropout(0.2))\n",
        "    Encoder.add(layers.Dense(500))\n",
        "    Encoder.add(layers.BatchNormalization())\n",
        "    Encoder.add(layers.ELU())\n",
        "\n",
        "    image_1 = layers.Input(shape=(224, 224, 3), name='imageInput1')\n",
        "    image_2 = layers.Input(shape=(224, 224, 3), name='imageInput2')\n",
        "    encoded_rep_1 = Encoder(image_1)\n",
        "    encoded_rep_2 = Encoder(image_2)\n",
        "    distance = layers.Lambda(cosine_similarity, name='cosineSimilarityMetric',output_shape=(None,1))([encoded_rep_1, encoded_rep_2])\n",
        "    output = layers.Dense(2, activation='softmax',name='siameseOutput')(distance)\n",
        "    siamese_model = keras.Model(inputs=[image_1, image_2], outputs=[output],name=\"cowMuzzleSiameseModel\")\n",
        "    siamese_model.compile(optimizer=tf.keras.optimizers.Adam(learning_rate=(0.001)), loss='sparse_categorical_crossentropy', metrics=[\"accuracy\"])\n"
      ]
    },
    {
      "cell_type": "code",
      "execution_count": null,
      "metadata": {
        "colab": {
          "base_uri": "https://localhost:8080/",
          "height": 335
        },
        "id": "cEPHT1PB0pLZ",
        "outputId": "d8a8cdab-6365-44a6-c571-b7edcff75915"
      },
      "outputs": [
        {
          "data": {
            "text/html": [
              "<pre style=\"white-space:pre;overflow-x:auto;line-height:normal;font-family:Menlo,'DejaVu Sans Mono',consolas,'Courier New',monospace\"><span style=\"font-weight: bold\">Model: \"cowMuzzleSiameseModel\"</span>\n",
              "</pre>\n"
            ],
            "text/plain": [
              "\u001b[1mModel: \"cowMuzzleSiameseModel\"\u001b[0m\n"
            ]
          },
          "metadata": {},
          "output_type": "display_data"
        },
        {
          "data": {
            "text/html": [
              "<pre style=\"white-space:pre;overflow-x:auto;line-height:normal;font-family:Menlo,'DejaVu Sans Mono',consolas,'Courier New',monospace\">┏━━━━━━━━━━━━━━━━━━━━━━━━━━━┳━━━━━━━━━━━━━━━━━━━━━━━━┳━━━━━━━━━━━━━━━━┳━━━━━━━━━━━━━━━━━━━━━━━━┓\n",
              "┃<span style=\"font-weight: bold\"> Layer (type)              </span>┃<span style=\"font-weight: bold\"> Output Shape           </span>┃<span style=\"font-weight: bold\">        Param # </span>┃<span style=\"font-weight: bold\"> Connected to           </span>┃\n",
              "┡━━━━━━━━━━━━━━━━━━━━━━━━━━━╇━━━━━━━━━━━━━━━━━━━━━━━━╇━━━━━━━━━━━━━━━━╇━━━━━━━━━━━━━━━━━━━━━━━━┩\n",
              "│ imageInput1 (<span style=\"color: #0087ff; text-decoration-color: #0087ff\">InputLayer</span>)  │ (<span style=\"color: #00d7ff; text-decoration-color: #00d7ff\">None</span>, <span style=\"color: #00af00; text-decoration-color: #00af00\">224</span>, <span style=\"color: #00af00; text-decoration-color: #00af00\">224</span>, <span style=\"color: #00af00; text-decoration-color: #00af00\">3</span>)    │              <span style=\"color: #00af00; text-decoration-color: #00af00\">0</span> │ -                      │\n",
              "├───────────────────────────┼────────────────────────┼────────────────┼────────────────────────┤\n",
              "│ imageInput2 (<span style=\"color: #0087ff; text-decoration-color: #0087ff\">InputLayer</span>)  │ (<span style=\"color: #00d7ff; text-decoration-color: #00d7ff\">None</span>, <span style=\"color: #00af00; text-decoration-color: #00af00\">224</span>, <span style=\"color: #00af00; text-decoration-color: #00af00\">224</span>, <span style=\"color: #00af00; text-decoration-color: #00af00\">3</span>)    │              <span style=\"color: #00af00; text-decoration-color: #00af00\">0</span> │ -                      │\n",
              "├───────────────────────────┼────────────────────────┼────────────────┼────────────────────────┤\n",
              "│ imageEncoder (<span style=\"color: #0087ff; text-decoration-color: #0087ff\">Sequential</span>) │ (<span style=\"color: #00d7ff; text-decoration-color: #00d7ff\">None</span>, <span style=\"color: #00af00; text-decoration-color: #00af00\">500</span>)            │      <span style=\"color: #00af00; text-decoration-color: #00af00\">5,333,740</span> │ imageInput1[<span style=\"color: #00af00; text-decoration-color: #00af00\">0</span>][<span style=\"color: #00af00; text-decoration-color: #00af00\">0</span>],     │\n",
              "│                           │                        │                │ imageInput2[<span style=\"color: #00af00; text-decoration-color: #00af00\">0</span>][<span style=\"color: #00af00; text-decoration-color: #00af00\">0</span>]      │\n",
              "├───────────────────────────┼────────────────────────┼────────────────┼────────────────────────┤\n",
              "│ cosineSimilarityMetric    │ (<span style=\"color: #00d7ff; text-decoration-color: #00d7ff\">None</span>, <span style=\"color: #00d7ff; text-decoration-color: #00d7ff\">None</span>, <span style=\"color: #00af00; text-decoration-color: #00af00\">1</span>)        │              <span style=\"color: #00af00; text-decoration-color: #00af00\">0</span> │ imageEncoder[<span style=\"color: #00af00; text-decoration-color: #00af00\">0</span>][<span style=\"color: #00af00; text-decoration-color: #00af00\">0</span>],    │\n",
              "│ (<span style=\"color: #0087ff; text-decoration-color: #0087ff\">Lambda</span>)                  │                        │                │ imageEncoder[<span style=\"color: #00af00; text-decoration-color: #00af00\">1</span>][<span style=\"color: #00af00; text-decoration-color: #00af00\">0</span>]     │\n",
              "├───────────────────────────┼────────────────────────┼────────────────┼────────────────────────┤\n",
              "│ siameseOutput (<span style=\"color: #0087ff; text-decoration-color: #0087ff\">Dense</span>)     │ (<span style=\"color: #00d7ff; text-decoration-color: #00d7ff\">None</span>, <span style=\"color: #00d7ff; text-decoration-color: #00d7ff\">None</span>, <span style=\"color: #00af00; text-decoration-color: #00af00\">2</span>)        │              <span style=\"color: #00af00; text-decoration-color: #00af00\">4</span> │ cosineSimilarityMetri… │\n",
              "└───────────────────────────┴────────────────────────┴────────────────┴────────────────────────┘\n",
              "</pre>\n"
            ],
            "text/plain": [
              "┏━━━━━━━━━━━━━━━━━━━━━━━━━━━┳━━━━━━━━━━━━━━━━━━━━━━━━┳━━━━━━━━━━━━━━━━┳━━━━━━━━━━━━━━━━━━━━━━━━┓\n",
              "┃\u001b[1m \u001b[0m\u001b[1mLayer (type)             \u001b[0m\u001b[1m \u001b[0m┃\u001b[1m \u001b[0m\u001b[1mOutput Shape          \u001b[0m\u001b[1m \u001b[0m┃\u001b[1m \u001b[0m\u001b[1m       Param #\u001b[0m\u001b[1m \u001b[0m┃\u001b[1m \u001b[0m\u001b[1mConnected to          \u001b[0m\u001b[1m \u001b[0m┃\n",
              "┡━━━━━━━━━━━━━━━━━━━━━━━━━━━╇━━━━━━━━━━━━━━━━━━━━━━━━╇━━━━━━━━━━━━━━━━╇━━━━━━━━━━━━━━━━━━━━━━━━┩\n",
              "│ imageInput1 (\u001b[38;5;33mInputLayer\u001b[0m)  │ (\u001b[38;5;45mNone\u001b[0m, \u001b[38;5;34m224\u001b[0m, \u001b[38;5;34m224\u001b[0m, \u001b[38;5;34m3\u001b[0m)    │              \u001b[38;5;34m0\u001b[0m │ -                      │\n",
              "├───────────────────────────┼────────────────────────┼────────────────┼────────────────────────┤\n",
              "│ imageInput2 (\u001b[38;5;33mInputLayer\u001b[0m)  │ (\u001b[38;5;45mNone\u001b[0m, \u001b[38;5;34m224\u001b[0m, \u001b[38;5;34m224\u001b[0m, \u001b[38;5;34m3\u001b[0m)    │              \u001b[38;5;34m0\u001b[0m │ -                      │\n",
              "├───────────────────────────┼────────────────────────┼────────────────┼────────────────────────┤\n",
              "│ imageEncoder (\u001b[38;5;33mSequential\u001b[0m) │ (\u001b[38;5;45mNone\u001b[0m, \u001b[38;5;34m500\u001b[0m)            │      \u001b[38;5;34m5,333,740\u001b[0m │ imageInput1[\u001b[38;5;34m0\u001b[0m][\u001b[38;5;34m0\u001b[0m],     │\n",
              "│                           │                        │                │ imageInput2[\u001b[38;5;34m0\u001b[0m][\u001b[38;5;34m0\u001b[0m]      │\n",
              "├───────────────────────────┼────────────────────────┼────────────────┼────────────────────────┤\n",
              "│ cosineSimilarityMetric    │ (\u001b[38;5;45mNone\u001b[0m, \u001b[38;5;45mNone\u001b[0m, \u001b[38;5;34m1\u001b[0m)        │              \u001b[38;5;34m0\u001b[0m │ imageEncoder[\u001b[38;5;34m0\u001b[0m][\u001b[38;5;34m0\u001b[0m],    │\n",
              "│ (\u001b[38;5;33mLambda\u001b[0m)                  │                        │                │ imageEncoder[\u001b[38;5;34m1\u001b[0m][\u001b[38;5;34m0\u001b[0m]     │\n",
              "├───────────────────────────┼────────────────────────┼────────────────┼────────────────────────┤\n",
              "│ siameseOutput (\u001b[38;5;33mDense\u001b[0m)     │ (\u001b[38;5;45mNone\u001b[0m, \u001b[38;5;45mNone\u001b[0m, \u001b[38;5;34m2\u001b[0m)        │              \u001b[38;5;34m4\u001b[0m │ cosineSimilarityMetri… │\n",
              "└───────────────────────────┴────────────────────────┴────────────────┴────────────────────────┘\n"
            ]
          },
          "metadata": {},
          "output_type": "display_data"
        },
        {
          "data": {
            "text/html": [
              "<pre style=\"white-space:pre;overflow-x:auto;line-height:normal;font-family:Menlo,'DejaVu Sans Mono',consolas,'Courier New',monospace\"><span style=\"font-weight: bold\"> Total params: </span><span style=\"color: #00af00; text-decoration-color: #00af00\">5,333,744</span> (20.35 MB)\n",
              "</pre>\n"
            ],
            "text/plain": [
              "\u001b[1m Total params: \u001b[0m\u001b[38;5;34m5,333,744\u001b[0m (20.35 MB)\n"
            ]
          },
          "metadata": {},
          "output_type": "display_data"
        },
        {
          "data": {
            "text/html": [
              "<pre style=\"white-space:pre;overflow-x:auto;line-height:normal;font-family:Menlo,'DejaVu Sans Mono',consolas,'Courier New',monospace\"><span style=\"font-weight: bold\"> Trainable params: </span><span style=\"color: #00af00; text-decoration-color: #00af00\">5,328,952</span> (20.33 MB)\n",
              "</pre>\n"
            ],
            "text/plain": [
              "\u001b[1m Trainable params: \u001b[0m\u001b[38;5;34m5,328,952\u001b[0m (20.33 MB)\n"
            ]
          },
          "metadata": {},
          "output_type": "display_data"
        },
        {
          "data": {
            "text/html": [
              "<pre style=\"white-space:pre;overflow-x:auto;line-height:normal;font-family:Menlo,'DejaVu Sans Mono',consolas,'Courier New',monospace\"><span style=\"font-weight: bold\"> Non-trainable params: </span><span style=\"color: #00af00; text-decoration-color: #00af00\">4,792</span> (18.72 KB)\n",
              "</pre>\n"
            ],
            "text/plain": [
              "\u001b[1m Non-trainable params: \u001b[0m\u001b[38;5;34m4,792\u001b[0m (18.72 KB)\n"
            ]
          },
          "metadata": {},
          "output_type": "display_data"
        }
      ],
      "source": [
        "siamese_model.summary()"
      ]
    },
    {
      "cell_type": "code",
      "execution_count": null,
      "metadata": {
        "colab": {
          "base_uri": "https://localhost:8080/",
          "height": 778
        },
        "id": "IVszAAbKCbTx",
        "outputId": "bdac513c-2df2-4a2b-9f6c-1ae64a34f747"
      },
      "outputs": [
        {
          "data": {
            "image/png": "[encoded data removed]",
            "text/plain": [
              "<IPython.core.display.Image object>"
            ]
          },
          "execution_count": 19,
          "metadata": {},
          "output_type": "execute_result"
        }
      ],
      "source": [
        "dot_img_file = '/tmp/model_1.png'\n",
        "tf.keras.utils.plot_model(siamese_model, to_file=dot_img_file, show_shapes=True, show_layer_activations=True)"
      ]
    },
    {
      "cell_type": "code",
      "execution_count": null,
      "metadata": {
        "id": "Jdewdcjl1VjS"
      },
      "outputs": [],
      "source": [
        "### Training\n",
        "# Define batch size\n",
        "batch_size = 64\n",
        "my_training_batch_generator = My_Custom_Generator(X1_train_index,X2_train_index,y_train, batch_size,train_dataset)\n",
        "my_validation_batch_generator = My_Custom_Generator(X1_val_index,X2_val_index,y_val, batch_size,val_dataset)"
      ]
    },
    {
      "cell_type": "code",
      "execution_count": null,
      "metadata": {
        "id": "CVga-Thd1WSI"
      },
      "outputs": [],
      "source": [
        "early_stop = tf.keras.callbacks.EarlyStopping(monitor='val_loss',\n",
        "                                              patience = 3,\n",
        "                                              verbose=1,\n",
        "                                              )\n",
        "checkpoint = tf.keras.callbacks.ModelCheckpoint(\"/content/drive/MyDrive/CowImagesSoCool/CowMuzzleSiameseModel.keras\", monitor=\"val_loss\", save_best_only=True, verbose=1)"
      ]
    },
    {
      "cell_type": "code",
      "execution_count": null,
      "metadata": {
        "colab": {
          "base_uri": "https://localhost:8080/"
        },
        "id": "N4Yfm3wo1bVm",
        "outputId": "70e35d25-cb2d-4b39-b408-deee187c9ca1"
      },
      "outputs": [
        {
          "name": "stdout",
          "output_type": "stream",
          "text": [
            "Epoch 1/10\n"
          ]
        },
        {
          "name": "stderr",
          "output_type": "stream",
          "text": [
            "/usr/local/lib/python3.10/dist-packages/keras/src/trainers/data_adapters/py_dataset_adapter.py:121: UserWarning: Your `PyDataset` class should call `super().__init__(**kwargs)` in its constructor. `**kwargs` can include `workers`, `use_multiprocessing`, `max_queue_size`. Do not pass these arguments to `fit()`, as they will be ignored.\n",
            "  self._warn_if_super_not_called()\n"
          ]
        },
        {
          "name": "stdout",
          "output_type": "stream",
          "text": [
            "\u001b[1m704/704\u001b[0m \u001b[32m━━━━━━━━━━━━━━━━━━━━\u001b[0m\u001b[37m\u001b[0m \u001b[1m0s\u001b[0m 1s/step - accuracy: 0.7143 - loss: 197.1706\n",
            "Epoch 1: val_loss improved from inf to 85.80819, saving model to /content/drive/MyDrive/CowImagesSoCool/CowMuzzleSiameseModel.keras\n",
            "\u001b[1m704/704\u001b[0m \u001b[32m━━━━━━━━━━━━━━━━━━━━\u001b[0m\u001b[37m\u001b[0m \u001b[1m1045s\u001b[0m 1s/step - accuracy: 0.7144 - loss: 197.1092 - val_accuracy: 0.7397 - val_loss: 85.8082\n",
            "Epoch 2/10\n",
            "\u001b[1m704/704\u001b[0m \u001b[32m━━━━━━━━━━━━━━━━━━━━\u001b[0m\u001b[37m\u001b[0m \u001b[1m0s\u001b[0m 1s/step - accuracy: 0.8521 - loss: 67.3339\n",
            "Epoch 2: val_loss improved from 85.80819 to 29.29658, saving model to /content/drive/MyDrive/CowImagesSoCool/CowMuzzleSiameseModel.keras\n",
            "\u001b[1m704/704\u001b[0m \u001b[32m━━━━━━━━━━━━━━━━━━━━\u001b[0m\u001b[37m\u001b[0m \u001b[1m1020s\u001b[0m 1s/step - accuracy: 0.8521 - loss: 67.3130 - val_accuracy: 0.8250 - val_loss: 29.2966\n",
            "Epoch 3/10\n",
            "\u001b[1m704/704\u001b[0m \u001b[32m━━━━━━━━━━━━━━━━━━━━\u001b[0m\u001b[37m\u001b[0m \u001b[1m0s\u001b[0m 1s/step - accuracy: 0.8930 - loss: 22.8554\n",
            "Epoch 3: val_loss improved from 29.29658 to 9.74704, saving model to /content/drive/MyDrive/CowImagesSoCool/CowMuzzleSiameseModel.keras\n",
            "\u001b[1m704/704\u001b[0m \u001b[32m━━━━━━━━━━━━━━━━━━━━\u001b[0m\u001b[37m\u001b[0m \u001b[1m1020s\u001b[0m 1s/step - accuracy: 0.8930 - loss: 22.8482 - val_accuracy: 0.8610 - val_loss: 9.7470\n",
            "Epoch 4/10\n",
            "\u001b[1m704/704\u001b[0m \u001b[32m━━━━━━━━━━━━━━━━━━━━\u001b[0m\u001b[37m\u001b[0m \u001b[1m0s\u001b[0m 1s/step - accuracy: 0.9135 - loss: 7.5446\n",
            "Epoch 4: val_loss improved from 9.74704 to 3.18752, saving model to /content/drive/MyDrive/CowImagesSoCool/CowMuzzleSiameseModel.keras\n",
            "\u001b[1m704/704\u001b[0m \u001b[32m━━━━━━━━━━━━━━━━━━━━\u001b[0m\u001b[37m\u001b[0m \u001b[1m1020s\u001b[0m 1s/step - accuracy: 0.9135 - loss: 7.5422 - val_accuracy: 0.9051 - val_loss: 3.1875\n",
            "Epoch 5/10\n",
            "\u001b[1m704/704\u001b[0m \u001b[32m━━━━━━━━━━━━━━━━━━━━\u001b[0m\u001b[37m\u001b[0m \u001b[1m0s\u001b[0m 1s/step - accuracy: 0.9388 - loss: 2.4618\n",
            "Epoch 5: val_loss improved from 3.18752 to 1.11340, saving model to /content/drive/MyDrive/CowImagesSoCool/CowMuzzleSiameseModel.keras\n",
            "\u001b[1m704/704\u001b[0m \u001b[32m━━━━━━━━━━━━━━━━━━━━\u001b[0m\u001b[37m\u001b[0m \u001b[1m1020s\u001b[0m 1s/step - accuracy: 0.9388 - loss: 2.4611 - val_accuracy: 0.9221 - val_loss: 1.1134\n",
            "Epoch 6/10\n",
            "\u001b[1m704/704\u001b[0m \u001b[32m━━━━━━━━━━━━━━━━━━━━\u001b[0m\u001b[37m\u001b[0m \u001b[1m0s\u001b[0m 1s/step - accuracy: 0.9526 - loss: 0.8682\n",
            "Epoch 6: val_loss improved from 1.11340 to 0.50569, saving model to /content/drive/MyDrive/CowImagesSoCool/CowMuzzleSiameseModel.keras\n",
            "\u001b[1m704/704\u001b[0m \u001b[32m━━━━━━━━━━━━━━━━━━━━\u001b[0m\u001b[37m\u001b[0m \u001b[1m1020s\u001b[0m 1s/step - accuracy: 0.9526 - loss: 0.8680 - val_accuracy: 0.9252 - val_loss: 0.5057\n",
            "Epoch 7/10\n",
            "\u001b[1m704/704\u001b[0m \u001b[32m━━━━━━━━━━━━━━━━━━━━\u001b[0m\u001b[37m\u001b[0m \u001b[1m0s\u001b[0m 1s/step - accuracy: 0.9651 - loss: 0.3852\n",
            "Epoch 7: val_loss improved from 0.50569 to 0.31507, saving model to /content/drive/MyDrive/CowImagesSoCool/CowMuzzleSiameseModel.keras\n",
            "\u001b[1m704/704\u001b[0m \u001b[32m━━━━━━━━━━━━━━━━━━━━\u001b[0m\u001b[37m\u001b[0m \u001b[1m1034s\u001b[0m 1s/step - accuracy: 0.9651 - loss: 0.3851 - val_accuracy: 0.9353 - val_loss: 0.3151\n",
            "Epoch 8/10\n",
            "\u001b[1m361/704\u001b[0m \u001b[32m━━━━━━━━━━\u001b[0m\u001b[37m━━━━━━━━━━\u001b[0m \u001b[1m7:42\u001b[0m 1s/step - accuracy: 0.9764 - loss: 0.2426"
          ]
        }
      ],
      "source": [
        "History=siamese_model.fit(x=my_training_batch_generator,\n",
        "                   epochs = 10,\n",
        "                   verbose = 1,\n",
        "                   callbacks=[early_stop,checkpoint],\n",
        "                   validation_data = my_validation_batch_generator,\n",
        "                   )"
      ]
    },
    {
      "cell_type": "code",
      "execution_count": null,
      "metadata": {
        "id": "uhkK0pIp3kOI"
      },
      "outputs": [],
      "source": [
        "plt.plot(History.history['loss'], label='loss')\n",
        "plt.plot(History.history['val_loss'], label='val_loss')\n",
        "plt.ylim([0, max(plt.ylim())])\n",
        "plt.xlabel('Epoch #')\n",
        "plt.ylabel('CE/token')\n",
        "plt.legend()"
      ]
    },
    {
      "cell_type": "code",
      "execution_count": null,
      "metadata": {
        "id": "Up2TDT5T3mjI"
      },
      "outputs": [],
      "source": [
        "plt.plot(History.history['accuracy'], label='accuracy')\n",
        "plt.plot(History.history['val_accuracy'], label='val_accuracy')\n",
        "plt.ylim([0, max(plt.ylim())])\n",
        "plt.xlabel('Epoch #')\n",
        "plt.ylabel('CE/token')\n",
        "plt.legend()"
      ]
    },
    {
      "cell_type": "code",
      "execution_count": null,
      "metadata": {
        "id": "ViORItd8LM77"
      },
      "outputs": [],
      "source": [
        "loaded_model = keras.models.load_model('/content/drive/MyDrive/CowImagesSoCool/CowMuzzleSiameseModel.keras',safe_mode=False)"
      ]
    },
    {
      "cell_type": "code",
      "execution_count": null,
      "metadata": {
        "colab": {
          "base_uri": "https://localhost:8080/"
        },
        "id": "IlJ95RJWmq95",
        "outputId": "4be1689d-d81c-42c8-d6ae-7761e60c6348"
      },
      "outputs": [],
      "source": [
        "# Define the path to the folder containing the dataset\n",
        "# folder_path = \"/content/drive/MyDrive/CowImagesSoCool/BeefCattle_Muzzle_300\"\n",
        "# file_list = os.listdir(folder_path)\n",
        "# print(file_list)\n",
        "# print(len(file_list)) #268\n",
        "# file_file_list = [os.listdir('/content/drive/MyDrive/CowImagesSoCool/BeefCattle_Muzzle_300/'+i) for i in file_list]\n",
        "# print(file_file_list)\n",
        "# print(len(file_file_list))\n",
        "# test =[[cv2.resize(cv2.imread(os.path.join('/content/drive/MyDrive/CowImagesSoCool/BeefCattle_Muzzle_300/',file_list[i],j)),(224,224)).astype('float32')/255 for j in file_file_list[i]] for i in range(260,len(file_list))]"
      ]
    },
    {
      "cell_type": "code",
      "execution_count": null,
      "metadata": {
        "id": "h_COjZawoM5a"
      },
      "outputs": [],
      "source": [
        "# with open('/content/drive/MyDrive/CowImagesSoCool/ImagesPickelFolder/test.pkl', \"wb\") as fl:\n",
        "#   pickle.dump(test[0:], fl)"
      ]
    },
    {
      "cell_type": "code",
      "execution_count": null,
      "metadata": {
        "id": "y281doE8o5D7"
      },
      "outputs": [],
      "source": [
        "test_dataset = []"
      ]
    },
    {
      "cell_type": "code",
      "execution_count": null,
      "metadata": {
        "id": "ickd4FUiosIk"
      },
      "outputs": [],
      "source": [
        "for i in range(20,25):\n",
        "  with open(\"/content/drive/MyDrive/CowImagesSoCool/ImagesPickelFolder/list-\"+str(i+1)+\".pkl\", \"rb\") as fl:\n",
        "      test_dataset.extend(pickle.load(fl))"
      ]
    },
    {
      "cell_type": "code",
      "execution_count": null,
      "metadata": {
        "colab": {
          "base_uri": "https://localhost:8080/"
        },
        "id": "V2IRpQ-3P24r",
        "outputId": "ab7857fb-c5fe-4a73-cdb2-639c7b04ad4a"
      },
      "outputs": [
        {
          "data": {
            "text/plain": [
              "(224, 224, 3)"
            ]
          },
          "execution_count": 9,
          "metadata": {},
          "output_type": "execute_result"
        }
      ],
      "source": [
        "test_dataset[0][0].shape"
      ]
    },
    {
      "cell_type": "code",
      "execution_count": null,
      "metadata": {
        "id": "FC8LCKvsqPMq"
      },
      "outputs": [],
      "source": [
        "test_siamese_dataset = get_dataset(n=1000,dataset1=test_dataset)"
      ]
    },
    {
      "cell_type": "code",
      "execution_count": null,
      "metadata": {
        "id": "N-luv-4XOJN4"
      },
      "outputs": [],
      "source": [
        "test_siamese_yactual=test_siamese_dataset[2]"
      ]
    },
    {
      "cell_type": "code",
      "execution_count": null,
      "metadata": {
        "id": "jKwmSb9_sFV7"
      },
      "outputs": [],
      "source": [
        "my_test_batch_generator=My_Custom_Generator(test_siamese_dataset[0],test_siamese_dataset[1],test_siamese_dataset[2], 64,test_dataset)"
      ]
    },
    {
      "cell_type": "code",
      "execution_count": null,
      "metadata": {
        "colab": {
          "base_uri": "https://localhost:8080/"
        },
        "id": "-fMekRVfTU-n",
        "outputId": "166595ca-6f8f-4e97-ec3a-b1851df9c66c"
      },
      "outputs": [
        {
          "data": {
            "text/plain": [
              "16"
            ]
          },
          "execution_count": 13,
          "metadata": {},
          "output_type": "execute_result"
        }
      ],
      "source": [
        "len(my_test_batch_generator)"
      ]
    },
    {
      "cell_type": "code",
      "execution_count": null,
      "metadata": {
        "id": "UhzssysFXYfL"
      },
      "outputs": [],
      "source": [
        "def cosine_similarity(v1, v2):\n",
        "    '''compute cosine similarity of v1 to v2: (v1 dot v2)/{||v1||*||v2||)'''\n",
        "    sumxx, sumxy, sumyy = 0, 0, 0\n",
        "    for i in range(len(v1)):\n",
        "        x = v1[i]; y = v2[i]\n",
        "        sumxx += x*x\n",
        "        sumyy += y*y\n",
        "        sumxy += x*y\n",
        "    return sumxy/math.sqrt(sumxx*sumyy)"
      ]
    },
    {
      "cell_type": "code",
      "execution_count": null,
      "metadata": {
        "colab": {
          "base_uri": "https://localhost:8080/"
        },
        "id": "oIE1_fuQsz9n",
        "outputId": "9a3e2278-88b8-48f3-bbac-553aed05bcb8"
      },
      "outputs": [],
      "source": [
        "# Create a new model with the encoder layers as output\n",
        "encoder_layer = keras.Model(inputs=loaded_model.get_layer('imageEncoder').input, outputs=loaded_model.get_layer(\"imageEncoder\").output)\n",
        "classifier = keras.Model(inputs=loaded_model.get_layer('siameseOutput').input, outputs=loaded_model.get_layer('siameseOutput').output)\n",
        "output_prob = []\n",
        "for batch_input1, batch_input2, in my_test_batch_generator:\n",
        "    if len(batch_input1[0]) == 0:\n",
        "          print(\"Warning: Empty batch encountered. Skipping.\")\n",
        "          break\n",
        "    # Get the encoder representations\n",
        "    # print(len(batch_input1[0]),batch_input2)\n",
        "    encoded_rep1 = encoder_layer.predict([batch_input1[0]])\n",
        "    encoded_rep2 = encoder_layer.predict([batch_input1[1]])\n",
        "    # print(encoded_rep1.shape)\n",
        "    # print(encoded_rep2.shape)\n",
        "    for i in range(len(encoded_rep1)):\n",
        "        distance = cosine_similarity(encoded_rep1[i], encoded_rep2[i])\n",
        "        # print(distance)\n",
        "        distance = np.array([distance]).reshape((1, 1, 1))\n",
        "        output_prob.append(classifier.predict(distance)[0])\n"
      ]
    },
    {
      "cell_type": "code",
      "execution_count": null,
      "metadata": {
        "colab": {
          "base_uri": "https://localhost:8080/"
        },
        "id": "cVay_IFCROPL",
        "outputId": "717bf0ee-5382-4460-add9-9d41841e0297"
      },
      "outputs": [],
      "source": [
        "output_prob"
      ]
    },
    {
      "cell_type": "code",
      "execution_count": null,
      "metadata": {
        "id": "9wqMMhtUZrkZ"
      },
      "outputs": [],
      "source": [
        "# test_siamese_ypred = [0 if i[0]>0.95 else 1 for i in test_siamese_ypred_keras]"
      ]
    },
    {
      "cell_type": "code",
      "execution_count": null,
      "metadata": {
        "id": "MC2JzYICNHd9"
      },
      "outputs": [],
      "source": [
        "test_siamese_ypred = [0 if i[0][0]>i[0][1] else 1 for i in output_prob]"
      ]
    },
    {
      "cell_type": "code",
      "execution_count": null,
      "metadata": {
        "colab": {
          "base_uri": "https://localhost:8080/"
        },
        "id": "89WxPkoseWdO",
        "outputId": "96ffe550-3430-4158-eca4-9acdda04121f"
      },
      "outputs": [
        {
          "data": {
            "text/plain": [
              "1000"
            ]
          },
          "execution_count": 24,
          "metadata": {},
          "output_type": "execute_result"
        }
      ],
      "source": [
        "len(test_siamese_yactual)"
      ]
    },
    {
      "cell_type": "code",
      "execution_count": null,
      "metadata": {
        "colab": {
          "base_uri": "https://localhost:8080/"
        },
        "id": "pjn-5DyDeQ4N",
        "outputId": "54b29cfa-57ee-4548-cb09-5a0df1f869e2"
      },
      "outputs": [
        {
          "data": {
            "text/plain": [
              "1000"
            ]
          },
          "execution_count": 25,
          "metadata": {},
          "output_type": "execute_result"
        }
      ],
      "source": [
        "len(test_siamese_ypred)"
      ]
    },
    {
      "cell_type": "code",
      "execution_count": null,
      "metadata": {
        "id": "I_1CwwalUuXa"
      },
      "outputs": [],
      "source": [
        "from sklearn.metrics import roc_curve, auc\n",
        "fpr_keras, tpr_keras, thresholds_keras = roc_curve(test_siamese_yactual,test_siamese_ypred)\n",
        "auc_keras = auc(fpr_keras, tpr_keras)"
      ]
    },
    {
      "cell_type": "code",
      "execution_count": null,
      "metadata": {
        "colab": {
          "base_uri": "https://localhost:8080/",
          "height": 472
        },
        "id": "GjD3wqY7VOIW",
        "outputId": "a6531018-ff68-436c-877c-8307bd8e8565"
      },
      "outputs": [
        {
          "data": {
            "image/png": "[encoded data removed]",
            "text/plain": [
              "<Figure size 640x480 with 1 Axes>"
            ]
          },
          "metadata": {},
          "output_type": "display_data"
        }
      ],
      "source": [
        "plt.plot([0, 1], [0, 1], 'k--')\n",
        "plt.plot(fpr_keras, tpr_keras, label='Keras (area = {:.3f})'.format(auc_keras))\n",
        "plt.xlabel('False positive rate')\n",
        "plt.ylabel('True positive rate')\n",
        "plt.title('ROC curve')\n",
        "plt.legend(loc='best')\n",
        "plt.show()"
      ]
    },
    {
      "cell_type": "code",
      "execution_count": null,
      "metadata": {
        "colab": {
          "base_uri": "https://localhost:8080/",
          "height": 352
        },
        "id": "shZWvn14NC3V",
        "outputId": "0fa92c42-ec19-4685-927c-794d1138ff1e"
      },
      "outputs": [
        {
          "data": {
            "text/html": [
              "<pre style=\"white-space:pre;overflow-x:auto;line-height:normal;font-family:Menlo,'DejaVu Sans Mono',consolas,'Courier New',monospace\"><span style=\"font-weight: bold\">Model: \"cowMuzzleSiameseModel\"</span>\n",
              "</pre>\n"
            ],
            "text/plain": [
              "\u001b[1mModel: \"cowMuzzleSiameseModel\"\u001b[0m\n"
            ]
          },
          "metadata": {},
          "output_type": "display_data"
        },
        {
          "data": {
            "text/html": [
              "<pre style=\"white-space:pre;overflow-x:auto;line-height:normal;font-family:Menlo,'DejaVu Sans Mono',consolas,'Courier New',monospace\">┏━━━━━━━━━━━━━━━━━━━━━━━━━━━┳━━━━━━━━━━━━━━━━━━━━━━━━┳━━━━━━━━━━━━━━━━┳━━━━━━━━━━━━━━━━━━━━━━━━┓\n",
              "┃<span style=\"font-weight: bold\"> Layer (type)              </span>┃<span style=\"font-weight: bold\"> Output Shape           </span>┃<span style=\"font-weight: bold\">        Param # </span>┃<span style=\"font-weight: bold\"> Connected to           </span>┃\n",
              "┡━━━━━━━━━━━━━━━━━━━━━━━━━━━╇━━━━━━━━━━━━━━━━━━━━━━━━╇━━━━━━━━━━━━━━━━╇━━━━━━━━━━━━━━━━━━━━━━━━┩\n",
              "│ imageInput1 (<span style=\"color: #0087ff; text-decoration-color: #0087ff\">InputLayer</span>)  │ (<span style=\"color: #00d7ff; text-decoration-color: #00d7ff\">None</span>, <span style=\"color: #00af00; text-decoration-color: #00af00\">224</span>, <span style=\"color: #00af00; text-decoration-color: #00af00\">224</span>, <span style=\"color: #00af00; text-decoration-color: #00af00\">3</span>)    │              <span style=\"color: #00af00; text-decoration-color: #00af00\">0</span> │ -                      │\n",
              "├───────────────────────────┼────────────────────────┼────────────────┼────────────────────────┤\n",
              "│ imageInput2 (<span style=\"color: #0087ff; text-decoration-color: #0087ff\">InputLayer</span>)  │ (<span style=\"color: #00d7ff; text-decoration-color: #00d7ff\">None</span>, <span style=\"color: #00af00; text-decoration-color: #00af00\">224</span>, <span style=\"color: #00af00; text-decoration-color: #00af00\">224</span>, <span style=\"color: #00af00; text-decoration-color: #00af00\">3</span>)    │              <span style=\"color: #00af00; text-decoration-color: #00af00\">0</span> │ -                      │\n",
              "├───────────────────────────┼────────────────────────┼────────────────┼────────────────────────┤\n",
              "│ imageEncoder (<span style=\"color: #0087ff; text-decoration-color: #0087ff\">Sequential</span>) │ (<span style=\"color: #00d7ff; text-decoration-color: #00d7ff\">None</span>, <span style=\"color: #00af00; text-decoration-color: #00af00\">500</span>)            │      <span style=\"color: #00af00; text-decoration-color: #00af00\">5,333,740</span> │ imageInput1[<span style=\"color: #00af00; text-decoration-color: #00af00\">0</span>][<span style=\"color: #00af00; text-decoration-color: #00af00\">0</span>],     │\n",
              "│                           │                        │                │ imageInput2[<span style=\"color: #00af00; text-decoration-color: #00af00\">0</span>][<span style=\"color: #00af00; text-decoration-color: #00af00\">0</span>]      │\n",
              "├───────────────────────────┼────────────────────────┼────────────────┼────────────────────────┤\n",
              "│ cosineSimilarityMetric    │ (<span style=\"color: #00d7ff; text-decoration-color: #00d7ff\">None</span>, <span style=\"color: #00d7ff; text-decoration-color: #00d7ff\">None</span>, <span style=\"color: #00af00; text-decoration-color: #00af00\">1</span>)        │              <span style=\"color: #00af00; text-decoration-color: #00af00\">0</span> │ imageEncoder[<span style=\"color: #00af00; text-decoration-color: #00af00\">0</span>][<span style=\"color: #00af00; text-decoration-color: #00af00\">0</span>],    │\n",
              "│ (<span style=\"color: #0087ff; text-decoration-color: #0087ff\">Lambda</span>)                  │                        │                │ imageEncoder[<span style=\"color: #00af00; text-decoration-color: #00af00\">1</span>][<span style=\"color: #00af00; text-decoration-color: #00af00\">0</span>]     │\n",
              "├───────────────────────────┼────────────────────────┼────────────────┼────────────────────────┤\n",
              "│ siameseOutput (<span style=\"color: #0087ff; text-decoration-color: #0087ff\">Dense</span>)     │ (<span style=\"color: #00d7ff; text-decoration-color: #00d7ff\">None</span>, <span style=\"color: #00d7ff; text-decoration-color: #00d7ff\">None</span>, <span style=\"color: #00af00; text-decoration-color: #00af00\">2</span>)        │              <span style=\"color: #00af00; text-decoration-color: #00af00\">4</span> │ cosineSimilarityMetri… │\n",
              "└───────────────────────────┴────────────────────────┴────────────────┴────────────────────────┘\n",
              "</pre>\n"
            ],
            "text/plain": [
              "┏━━━━━━━━━━━━━━━━━━━━━━━━━━━┳━━━━━━━━━━━━━━━━━━━━━━━━┳━━━━━━━━━━━━━━━━┳━━━━━━━━━━━━━━━━━━━━━━━━┓\n",
              "┃\u001b[1m \u001b[0m\u001b[1mLayer (type)             \u001b[0m\u001b[1m \u001b[0m┃\u001b[1m \u001b[0m\u001b[1mOutput Shape          \u001b[0m\u001b[1m \u001b[0m┃\u001b[1m \u001b[0m\u001b[1m       Param #\u001b[0m\u001b[1m \u001b[0m┃\u001b[1m \u001b[0m\u001b[1mConnected to          \u001b[0m\u001b[1m \u001b[0m┃\n",
              "┡━━━━━━━━━━━━━━━━━━━━━━━━━━━╇━━━━━━━━━━━━━━━━━━━━━━━━╇━━━━━━━━━━━━━━━━╇━━━━━━━━━━━━━━━━━━━━━━━━┩\n",
              "│ imageInput1 (\u001b[38;5;33mInputLayer\u001b[0m)  │ (\u001b[38;5;45mNone\u001b[0m, \u001b[38;5;34m224\u001b[0m, \u001b[38;5;34m224\u001b[0m, \u001b[38;5;34m3\u001b[0m)    │              \u001b[38;5;34m0\u001b[0m │ -                      │\n",
              "├───────────────────────────┼────────────────────────┼────────────────┼────────────────────────┤\n",
              "│ imageInput2 (\u001b[38;5;33mInputLayer\u001b[0m)  │ (\u001b[38;5;45mNone\u001b[0m, \u001b[38;5;34m224\u001b[0m, \u001b[38;5;34m224\u001b[0m, \u001b[38;5;34m3\u001b[0m)    │              \u001b[38;5;34m0\u001b[0m │ -                      │\n",
              "├───────────────────────────┼────────────────────────┼────────────────┼────────────────────────┤\n",
              "│ imageEncoder (\u001b[38;5;33mSequential\u001b[0m) │ (\u001b[38;5;45mNone\u001b[0m, \u001b[38;5;34m500\u001b[0m)            │      \u001b[38;5;34m5,333,740\u001b[0m │ imageInput1[\u001b[38;5;34m0\u001b[0m][\u001b[38;5;34m0\u001b[0m],     │\n",
              "│                           │                        │                │ imageInput2[\u001b[38;5;34m0\u001b[0m][\u001b[38;5;34m0\u001b[0m]      │\n",
              "├───────────────────────────┼────────────────────────┼────────────────┼────────────────────────┤\n",
              "│ cosineSimilarityMetric    │ (\u001b[38;5;45mNone\u001b[0m, \u001b[38;5;45mNone\u001b[0m, \u001b[38;5;34m1\u001b[0m)        │              \u001b[38;5;34m0\u001b[0m │ imageEncoder[\u001b[38;5;34m0\u001b[0m][\u001b[38;5;34m0\u001b[0m],    │\n",
              "│ (\u001b[38;5;33mLambda\u001b[0m)                  │                        │                │ imageEncoder[\u001b[38;5;34m1\u001b[0m][\u001b[38;5;34m0\u001b[0m]     │\n",
              "├───────────────────────────┼────────────────────────┼────────────────┼────────────────────────┤\n",
              "│ siameseOutput (\u001b[38;5;33mDense\u001b[0m)     │ (\u001b[38;5;45mNone\u001b[0m, \u001b[38;5;45mNone\u001b[0m, \u001b[38;5;34m2\u001b[0m)        │              \u001b[38;5;34m4\u001b[0m │ cosineSimilarityMetri… │\n",
              "└───────────────────────────┴────────────────────────┴────────────────┴────────────────────────┘\n"
            ]
          },
          "metadata": {},
          "output_type": "display_data"
        },
        {
          "data": {
            "text/html": [
              "<pre style=\"white-space:pre;overflow-x:auto;line-height:normal;font-family:Menlo,'DejaVu Sans Mono',consolas,'Courier New',monospace\"><span style=\"font-weight: bold\"> Total params: </span><span style=\"color: #00af00; text-decoration-color: #00af00\">15,991,650</span> (61.00 MB)\n",
              "</pre>\n"
            ],
            "text/plain": [
              "\u001b[1m Total params: \u001b[0m\u001b[38;5;34m15,991,650\u001b[0m (61.00 MB)\n"
            ]
          },
          "metadata": {},
          "output_type": "display_data"
        },
        {
          "data": {
            "text/html": [
              "<pre style=\"white-space:pre;overflow-x:auto;line-height:normal;font-family:Menlo,'DejaVu Sans Mono',consolas,'Courier New',monospace\"><span style=\"font-weight: bold\"> Trainable params: </span><span style=\"color: #00af00; text-decoration-color: #00af00\">5,328,952</span> (20.33 MB)\n",
              "</pre>\n"
            ],
            "text/plain": [
              "\u001b[1m Trainable params: \u001b[0m\u001b[38;5;34m5,328,952\u001b[0m (20.33 MB)\n"
            ]
          },
          "metadata": {},
          "output_type": "display_data"
        },
        {
          "data": {
            "text/html": [
              "<pre style=\"white-space:pre;overflow-x:auto;line-height:normal;font-family:Menlo,'DejaVu Sans Mono',consolas,'Courier New',monospace\"><span style=\"font-weight: bold\"> Non-trainable params: </span><span style=\"color: #00af00; text-decoration-color: #00af00\">4,792</span> (18.72 KB)\n",
              "</pre>\n"
            ],
            "text/plain": [
              "\u001b[1m Non-trainable params: \u001b[0m\u001b[38;5;34m4,792\u001b[0m (18.72 KB)\n"
            ]
          },
          "metadata": {},
          "output_type": "display_data"
        },
        {
          "data": {
            "text/html": [
              "<pre style=\"white-space:pre;overflow-x:auto;line-height:normal;font-family:Menlo,'DejaVu Sans Mono',consolas,'Courier New',monospace\"><span style=\"font-weight: bold\"> Optimizer params: </span><span style=\"color: #00af00; text-decoration-color: #00af00\">10,657,906</span> (40.66 MB)\n",
              "</pre>\n"
            ],
            "text/plain": [
              "\u001b[1m Optimizer params: \u001b[0m\u001b[38;5;34m10,657,906\u001b[0m (40.66 MB)\n"
            ]
          },
          "metadata": {},
          "output_type": "display_data"
        }
      ],
      "source": [
        "loaded_model.summary()"
      ]
    },
    {
      "cell_type": "code",
      "execution_count": null,
      "metadata": {
        "colab": {
          "base_uri": "https://localhost:8080/"
        },
        "id": "OcMzC-7fbOW9",
        "outputId": "40dc561f-68e5-4963-8e47-809d6ed4c5a3"
      },
      "outputs": [
        {
          "name": "stdout",
          "output_type": "stream",
          "text": [
            "              precision    recall  f1-score   support\n",
            "\n",
            "     similar       0.91      0.95      0.93       500\n",
            "  dissimilar       0.95      0.90      0.93       500\n",
            "\n",
            "    accuracy                           0.93      1000\n",
            "   macro avg       0.93      0.93      0.93      1000\n",
            "weighted avg       0.93      0.93      0.93      1000\n",
            "\n"
          ]
        }
      ],
      "source": [
        "from sklearn.metrics import classification_report\n",
        "print(classification_report(test_siamese_yactual , test_siamese_ypred,target_names=['similar','dissimilar']))"
      ]
    }
  ],
  "metadata": {
    "accelerator": "GPU",
    "colab": {
      "gpuType": "T4",
      "provenance": []
    },
    "kaggle": {
      "accelerator": "nvidiaTeslaT4",
      "dataSources": [
        {
          "datasetId": 4478632,
          "sourceId": 7677338,
          "sourceType": "datasetVersion"
        }
      ],
      "dockerImageVersionId": 30665,
      "isGpuEnabled": true,
      "isInternetEnabled": true,
      "language": "python",
      "sourceType": "notebook"
    },
    "kernelspec": {
      "display_name": "Python 3",
      "name": "python3"
    },
    "language_info": {
      "codemirror_mode": {
        "name": "ipython",
        "version": 3
      },
      "file_extension": ".py",
      "mimetype": "text/x-python",
      "name": "python",
      "nbconvert_exporter": "python",
      "pygments_lexer": "ipython3",
      "version": "3.8.10"
    }
  },
  "nbformat": 4,
  "nbformat_minor": 0
}
